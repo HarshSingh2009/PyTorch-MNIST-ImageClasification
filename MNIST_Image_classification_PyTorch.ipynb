{
  "nbformat": 4,
  "nbformat_minor": 0,
  "metadata": {
    "colab": {
      "provenance": [],
      "gpuType": "T4"
    },
    "kernelspec": {
      "name": "python3",
      "display_name": "Python 3"
    },
    "language_info": {
      "name": "python"
    },
    "accelerator": "GPU"
  },
  "cells": [
    {
      "cell_type": "markdown",
      "source": [
        "# MNIST Image Classification with PyTorch\n",
        "\n",
        "> ⚡ In this Project we are going to take the MNIST dataset and build a PyTorch model to classify the images of all the numbers"
      ],
      "metadata": {
        "id": "V-IUDiO1l5OD"
      }
    },
    {
      "cell_type": "code",
      "source": [
        "!pip install torchmetrics"
      ],
      "metadata": {
        "colab": {
          "base_uri": "https://localhost:8080/"
        },
        "id": "BHh1fKKQng-D",
        "outputId": "5fd68341-d42a-493c-8c85-98b98af3454c"
      },
      "execution_count": 1,
      "outputs": [
        {
          "output_type": "stream",
          "name": "stdout",
          "text": [
            "Collecting torchmetrics\n",
            "  Downloading torchmetrics-1.2.0-py3-none-any.whl (805 kB)\n",
            "\u001b[?25l     \u001b[90m━━━━━━━━━━━━━━━━━━━━━━━━━━━━━━━━━━━━━━━━\u001b[0m \u001b[32m0.0/805.2 kB\u001b[0m \u001b[31m?\u001b[0m eta \u001b[36m-:--:--\u001b[0m\r\u001b[2K     \u001b[91m━━━━━━━━━━━\u001b[0m\u001b[91m╸\u001b[0m\u001b[90m━━━━━━━━━━━━━━━━━━━━━━━━━━━━\u001b[0m \u001b[32m235.5/805.2 kB\u001b[0m \u001b[31m6.9 MB/s\u001b[0m eta \u001b[36m0:00:01\u001b[0m\r\u001b[2K     \u001b[91m━━━━━━━━━━━━━━━━━━━━━━━━━━━━━━━━━━━━━\u001b[0m\u001b[90m╺\u001b[0m\u001b[90m━━\u001b[0m \u001b[32m747.5/805.2 kB\u001b[0m \u001b[31m10.8 MB/s\u001b[0m eta \u001b[36m0:00:01\u001b[0m\r\u001b[2K     \u001b[90m━━━━━━━━━━━━━━━━━━━━━━━━━━━━━━━━━━━━━━━━\u001b[0m \u001b[32m805.2/805.2 kB\u001b[0m \u001b[31m9.9 MB/s\u001b[0m eta \u001b[36m0:00:00\u001b[0m\n",
            "\u001b[?25hRequirement already satisfied: numpy>1.20.0 in /usr/local/lib/python3.10/dist-packages (from torchmetrics) (1.23.5)\n",
            "Requirement already satisfied: torch>=1.8.1 in /usr/local/lib/python3.10/dist-packages (from torchmetrics) (2.1.0+cu118)\n",
            "Collecting lightning-utilities>=0.8.0 (from torchmetrics)\n",
            "  Downloading lightning_utilities-0.9.0-py3-none-any.whl (23 kB)\n",
            "Requirement already satisfied: packaging>=17.1 in /usr/local/lib/python3.10/dist-packages (from lightning-utilities>=0.8.0->torchmetrics) (23.2)\n",
            "Requirement already satisfied: typing-extensions in /usr/local/lib/python3.10/dist-packages (from lightning-utilities>=0.8.0->torchmetrics) (4.5.0)\n",
            "Requirement already satisfied: filelock in /usr/local/lib/python3.10/dist-packages (from torch>=1.8.1->torchmetrics) (3.13.1)\n",
            "Requirement already satisfied: sympy in /usr/local/lib/python3.10/dist-packages (from torch>=1.8.1->torchmetrics) (1.12)\n",
            "Requirement already satisfied: networkx in /usr/local/lib/python3.10/dist-packages (from torch>=1.8.1->torchmetrics) (3.2.1)\n",
            "Requirement already satisfied: jinja2 in /usr/local/lib/python3.10/dist-packages (from torch>=1.8.1->torchmetrics) (3.1.2)\n",
            "Requirement already satisfied: fsspec in /usr/local/lib/python3.10/dist-packages (from torch>=1.8.1->torchmetrics) (2023.6.0)\n",
            "Requirement already satisfied: triton==2.1.0 in /usr/local/lib/python3.10/dist-packages (from torch>=1.8.1->torchmetrics) (2.1.0)\n",
            "Requirement already satisfied: MarkupSafe>=2.0 in /usr/local/lib/python3.10/dist-packages (from jinja2->torch>=1.8.1->torchmetrics) (2.1.3)\n",
            "Requirement already satisfied: mpmath>=0.19 in /usr/local/lib/python3.10/dist-packages (from sympy->torch>=1.8.1->torchmetrics) (1.3.0)\n",
            "Installing collected packages: lightning-utilities, torchmetrics\n",
            "Successfully installed lightning-utilities-0.9.0 torchmetrics-1.2.0\n"
          ]
        }
      ]
    },
    {
      "cell_type": "code",
      "source": [
        "# import all necessary dependencies\n",
        "import torch\n",
        "from torch import nn\n",
        "from torch.utils.data import DataLoader\n",
        "\n",
        "import torchvision\n",
        "from torchvision import datasets # Getting MNIST data from list of datasets\n",
        "from torchvision.transforms import ToTensor # transforming images to tensor\n",
        "\n",
        "import torchmetrics # evaluating with different metrics\n",
        "import mlxtend # confusion matrix construction\n",
        "\n",
        "import numpy as np\n",
        "import matplotlib.pyplot as plt"
      ],
      "metadata": {
        "id": "2i2LrhdInOnL"
      },
      "execution_count": 2,
      "outputs": []
    },
    {
      "cell_type": "markdown",
      "source": [
        "## Load Data\n",
        "* We are going to use `torchvision.datasets.MNIST` through which we will be able to get the training and testing data!\n",
        "* Applying `torchvision.transforms.ToTensor()` which will convert all the images into tensors, for our model to process them faster"
      ],
      "metadata": {
        "id": "PbSBNIWal5WM"
      }
    },
    {
      "cell_type": "code",
      "source": [
        "train_data = datasets.MNIST(\n",
        "  root='data',\n",
        "  train=True,\n",
        "  download=True,\n",
        "  transform=ToTensor()\n",
        ")\n",
        "\n",
        "test_data = datasets.MNIST(\n",
        "    root='data',\n",
        "    train=False,\n",
        "    download=True,\n",
        "    transform=ToTensor()\n",
        ")"
      ],
      "metadata": {
        "colab": {
          "base_uri": "https://localhost:8080/"
        },
        "id": "8othY1xlol3V",
        "outputId": "9bedc4a2-4aff-49dc-861e-e19a5c56d2e7"
      },
      "execution_count": 3,
      "outputs": [
        {
          "output_type": "stream",
          "name": "stdout",
          "text": [
            "Downloading http://yann.lecun.com/exdb/mnist/train-images-idx3-ubyte.gz\n",
            "Downloading http://yann.lecun.com/exdb/mnist/train-images-idx3-ubyte.gz to data/MNIST/raw/train-images-idx3-ubyte.gz\n"
          ]
        },
        {
          "output_type": "stream",
          "name": "stderr",
          "text": [
            "100%|██████████| 9912422/9912422 [00:00<00:00, 124937528.53it/s]"
          ]
        },
        {
          "output_type": "stream",
          "name": "stdout",
          "text": [
            "Extracting data/MNIST/raw/train-images-idx3-ubyte.gz to data/MNIST/raw\n"
          ]
        },
        {
          "output_type": "stream",
          "name": "stderr",
          "text": [
            "\n"
          ]
        },
        {
          "output_type": "stream",
          "name": "stdout",
          "text": [
            "\n",
            "Downloading http://yann.lecun.com/exdb/mnist/train-labels-idx1-ubyte.gz\n",
            "Downloading http://yann.lecun.com/exdb/mnist/train-labels-idx1-ubyte.gz to data/MNIST/raw/train-labels-idx1-ubyte.gz\n"
          ]
        },
        {
          "output_type": "stream",
          "name": "stderr",
          "text": [
            "100%|██████████| 28881/28881 [00:00<00:00, 15362802.01it/s]\n"
          ]
        },
        {
          "output_type": "stream",
          "name": "stdout",
          "text": [
            "Extracting data/MNIST/raw/train-labels-idx1-ubyte.gz to data/MNIST/raw\n",
            "\n",
            "Downloading http://yann.lecun.com/exdb/mnist/t10k-images-idx3-ubyte.gz\n",
            "Downloading http://yann.lecun.com/exdb/mnist/t10k-images-idx3-ubyte.gz to data/MNIST/raw/t10k-images-idx3-ubyte.gz\n"
          ]
        },
        {
          "output_type": "stream",
          "name": "stderr",
          "text": [
            "100%|██████████| 1648877/1648877 [00:00<00:00, 39886103.64it/s]"
          ]
        },
        {
          "output_type": "stream",
          "name": "stdout",
          "text": [
            "Extracting data/MNIST/raw/t10k-images-idx3-ubyte.gz to data/MNIST/raw\n"
          ]
        },
        {
          "output_type": "stream",
          "name": "stderr",
          "text": [
            "\n"
          ]
        },
        {
          "output_type": "stream",
          "name": "stdout",
          "text": [
            "\n",
            "Downloading http://yann.lecun.com/exdb/mnist/t10k-labels-idx1-ubyte.gz\n",
            "Downloading http://yann.lecun.com/exdb/mnist/t10k-labels-idx1-ubyte.gz to data/MNIST/raw/t10k-labels-idx1-ubyte.gz\n"
          ]
        },
        {
          "output_type": "stream",
          "name": "stderr",
          "text": [
            "100%|██████████| 4542/4542 [00:00<00:00, 13482327.51it/s]\n"
          ]
        },
        {
          "output_type": "stream",
          "name": "stdout",
          "text": [
            "Extracting data/MNIST/raw/t10k-labels-idx1-ubyte.gz to data/MNIST/raw\n",
            "\n"
          ]
        }
      ]
    },
    {
      "cell_type": "code",
      "source": [
        "len(train_data), len(test_data)"
      ],
      "metadata": {
        "colab": {
          "base_uri": "https://localhost:8080/"
        },
        "id": "qURUuJXxpMBs",
        "outputId": "7072d086-ff1e-41b8-b086-efc0e993a56e"
      },
      "execution_count": 4,
      "outputs": [
        {
          "output_type": "execute_result",
          "data": {
            "text/plain": [
              "(60000, 10000)"
            ]
          },
          "metadata": {},
          "execution_count": 4
        }
      ]
    },
    {
      "cell_type": "code",
      "source": [
        "class_names = train_data.classes\n",
        "class_names"
      ],
      "metadata": {
        "colab": {
          "base_uri": "https://localhost:8080/"
        },
        "id": "0iEYbj73pnes",
        "outputId": "4e8a4de8-172b-4e1b-a7c5-7036082a7a7c"
      },
      "execution_count": 5,
      "outputs": [
        {
          "output_type": "execute_result",
          "data": {
            "text/plain": [
              "['0 - zero',\n",
              " '1 - one',\n",
              " '2 - two',\n",
              " '3 - three',\n",
              " '4 - four',\n",
              " '5 - five',\n",
              " '6 - six',\n",
              " '7 - seven',\n",
              " '8 - eight',\n",
              " '9 - nine']"
            ]
          },
          "metadata": {},
          "execution_count": 5
        }
      ]
    },
    {
      "cell_type": "markdown",
      "source": [
        "### View single image for each class in data"
      ],
      "metadata": {
        "id": "rBd1jIcNpafT"
      }
    },
    {
      "cell_type": "code",
      "source": [
        "# Initialize variables to store indices of each class\n",
        "class_indices = {key: [] for key in range(10)}\n",
        "\n",
        "for idx, (img, label) in enumerate(train_data):\n",
        "    class_indices[label].append(idx)\n",
        "\n",
        "# Set up a subplot with 10 images (1 for each class)\n",
        "fig, axs = plt.subplots(2, 5, figsize=(12, 6))\n",
        "axs = axs.ravel()\n",
        "\n",
        "for i in range(10):\n",
        "    class_img_index = class_indices[i][0]  # Take the first image for each class\n",
        "    img, label = train_data[class_img_index]\n",
        "\n",
        "    # Plot the image\n",
        "    axs[i].imshow(img.squeeze(), cmap='gray')\n",
        "    axs[i].set_title(class_names[label])\n",
        "    axs[i].axis('off')\n",
        "\n",
        "plt.tight_layout()\n",
        "plt.show()"
      ],
      "metadata": {
        "colab": {
          "base_uri": "https://localhost:8080/",
          "height": 426
        },
        "id": "RgHoGJ5TpZ-c",
        "outputId": "1d7449ee-6739-4e7f-e79c-d8143d7be880"
      },
      "execution_count": 6,
      "outputs": [
        {
          "output_type": "display_data",
          "data": {
            "text/plain": [
              "<Figure size 1200x600 with 10 Axes>"
            ],
            "image/png": "[encoded data removed]"
          },
          "metadata": {}
        }
      ]
    },
    {
      "cell_type": "markdown",
      "source": [
        "## Batching our Data\n",
        "\n",
        "Converting our data into Data Loaders is a very crucial step, as it batchifies our data into mini-batches of size 32 (in this case), which will be easier for our model to process!"
      ],
      "metadata": {
        "id": "ittCItb_l5Y7"
      }
    },
    {
      "cell_type": "code",
      "source": [
        "train_dataloader = DataLoader(\n",
        "    train_data, # Train data is used\n",
        "    batch_size=32, # convert them into mini-batches of size 32\n",
        "    shuffle=True, # Shuffle all our images\n",
        ")\n",
        "\n",
        "test_dataloader = DataLoader(\n",
        "    test_data, # Test data is used\n",
        "    batch_size=32, # convert them into mini-batches of 32\n",
        "    shuffle=False # We do not want to shuffle images in test data\n",
        ")\n",
        "\n",
        "train_dataloader,  test_dataloader"
      ],
      "metadata": {
        "colab": {
          "base_uri": "https://localhost:8080/"
        },
        "id": "y1TYSbTNpUQb",
        "outputId": "1dc5e032-60a5-4c59-b51d-abf65b593a8d"
      },
      "execution_count": 7,
      "outputs": [
        {
          "output_type": "execute_result",
          "data": {
            "text/plain": [
              "(<torch.utils.data.dataloader.DataLoader at 0x7cd5142bfa90>,\n",
              " <torch.utils.data.dataloader.DataLoader at 0x7cd5142bef50>)"
            ]
          },
          "metadata": {},
          "execution_count": 7
        }
      ]
    },
    {
      "cell_type": "code",
      "source": [
        "print(f'Train Data has {len(train_dataloader)} batches of size {train_dataloader.batch_size}')\n",
        "print(f'Test Data has {len(test_dataloader)} batches of size {test_dataloader.batch_size}')"
      ],
      "metadata": {
        "colab": {
          "base_uri": "https://localhost:8080/"
        },
        "id": "Fl43MWfVqcdy",
        "outputId": "96dbd643-b8f4-4ad4-d49a-c23526e4d533"
      },
      "execution_count": 8,
      "outputs": [
        {
          "output_type": "stream",
          "name": "stdout",
          "text": [
            "Train Data has 1875 batches of size 32\n",
            "Test Data has 313 batches of size 32\n"
          ]
        }
      ]
    },
    {
      "cell_type": "code",
      "source": [
        "images, labels = next(iter(train_dataloader))\n",
        "images.shape, labels"
      ],
      "metadata": {
        "colab": {
          "base_uri": "https://localhost:8080/"
        },
        "id": "cJPEJ4FPq2uy",
        "outputId": "8637e2b3-6b91-401f-8326-18483a6ac298"
      },
      "execution_count": 9,
      "outputs": [
        {
          "output_type": "execute_result",
          "data": {
            "text/plain": [
              "(torch.Size([32, 1, 28, 28]),\n",
              " tensor([7, 3, 6, 3, 9, 3, 1, 3, 7, 3, 1, 8, 0, 0, 5, 9, 6, 0, 8, 1, 3, 1, 7, 7,\n",
              "         0, 1, 8, 2, 7, 2, 9, 0]))"
            ]
          },
          "metadata": {},
          "execution_count": 9
        }
      ]
    },
    {
      "cell_type": "markdown",
      "source": [
        "### Visualizing Random images from our dataset"
      ],
      "metadata": {
        "id": "633xrdt3m3Nz"
      }
    },
    {
      "cell_type": "code",
      "source": [
        "import random\n",
        "random_idx = random.randint(0, train_dataloader.batch_size)\n",
        "plt.imshow(images[random_idx].squeeze(), cmap='gray')\n",
        "plt.title(class_names[labels[random_idx]])\n",
        "plt.axis('off')\n",
        "plt.show();"
      ],
      "metadata": {
        "colab": {
          "base_uri": "https://localhost:8080/",
          "height": 428
        },
        "id": "NuKe2sjuqqCs",
        "outputId": "7077d642-8a8b-46cb-ddcd-b10e28bf9efc"
      },
      "execution_count": 10,
      "outputs": [
        {
          "output_type": "display_data",
          "data": {
            "text/plain": [
              "<Figure size 640x480 with 1 Axes>"
            ],
            "image/png": "[encoded data removed]"
          },
          "metadata": {}
        }
      ]
    },
    {
      "cell_type": "markdown",
      "source": [
        "## Constructing our model"
      ],
      "metadata": {
        "id": "jNo8t6Ffl5bN"
      }
    },
    {
      "cell_type": "code",
      "source": [
        "# Device agnostic code\n",
        "device = 'cuda' if torch.cuda.is_available() else 'cpu'\n",
        "device"
      ],
      "metadata": {
        "colab": {
          "base_uri": "https://localhost:8080/",
          "height": 35
        },
        "id": "fP1r5DVPrLlF",
        "outputId": "1eea4f68-ff9d-4683-a1ac-bd36f20543e6"
      },
      "execution_count": 11,
      "outputs": [
        {
          "output_type": "execute_result",
          "data": {
            "text/plain": [
              "'cuda'"
            ],
            "application/vnd.google.colaboratory.intrinsic+json": {
              "type": "string"
            }
          },
          "metadata": {},
          "execution_count": 11
        }
      ]
    },
    {
      "cell_type": "code",
      "source": [
        "# Building PyTorch Model\n",
        "class MNISTModelV0(nn.Module):\n",
        "  def __init__(self):\n",
        "    super().__init__()\n",
        "\n",
        "    # Create Convolutional Layers along with Linear layers\n",
        "    self.conv_block = nn.Sequential(\n",
        "        nn.Conv2d(in_channels=1, out_channels=32, kernel_size=3, padding=1),\n",
        "        nn.ReLU(),\n",
        "        nn.Conv2d(in_channels=32, out_channels=32, kernel_size=3, padding=1),\n",
        "        nn.ReLU(),\n",
        "        nn.MaxPool2d(kernel_size=(2, 2), stride=2),\n",
        "\n",
        "        nn.Conv2d(in_channels=32, out_channels=64, kernel_size=3, padding=1),\n",
        "        nn.ReLU(),\n",
        "        nn.MaxPool2d(kernel_size=(2, 2), stride=2)\n",
        "    )\n",
        "\n",
        "    self.classifier = nn.Sequential(\n",
        "        nn.Flatten(),\n",
        "        nn.Linear(in_features=64*7*7, out_features=64),\n",
        "        nn.ReLU(),\n",
        "        nn.Linear(in_features=64, out_features=32),\n",
        "        nn.ReLU(),\n",
        "        nn.Linear(in_features=32, out_features=10)\n",
        "    )\n",
        "\n",
        "  def forward(self, X:torch.tensor) -> torch.tensor:\n",
        "    X = self.conv_block(X)\n",
        "    # print(f'Shape of X (after conv_base): {X.shape}')\n",
        "    X = self.classifier(X)\n",
        "    return X\n",
        "\n",
        "\n",
        "model = MNISTModelV0().to(device)\n",
        "model"
      ],
      "metadata": {
        "colab": {
          "base_uri": "https://localhost:8080/"
        },
        "id": "ixBKGCcarWAU",
        "outputId": "b31222ce-fcb6-4846-cc78-3ec6e04b1e76"
      },
      "execution_count": 12,
      "outputs": [
        {
          "output_type": "execute_result",
          "data": {
            "text/plain": [
              "MNISTModelV0(\n",
              "  (conv_block): Sequential(\n",
              "    (0): Conv2d(1, 32, kernel_size=(3, 3), stride=(1, 1), padding=(1, 1))\n",
              "    (1): ReLU()\n",
              "    (2): Conv2d(32, 32, kernel_size=(3, 3), stride=(1, 1), padding=(1, 1))\n",
              "    (3): ReLU()\n",
              "    (4): MaxPool2d(kernel_size=(2, 2), stride=2, padding=0, dilation=1, ceil_mode=False)\n",
              "    (5): Conv2d(32, 64, kernel_size=(3, 3), stride=(1, 1), padding=(1, 1))\n",
              "    (6): ReLU()\n",
              "    (7): MaxPool2d(kernel_size=(2, 2), stride=2, padding=0, dilation=1, ceil_mode=False)\n",
              "  )\n",
              "  (classifier): Sequential(\n",
              "    (0): Flatten(start_dim=1, end_dim=-1)\n",
              "    (1): Linear(in_features=3136, out_features=64, bias=True)\n",
              "    (2): ReLU()\n",
              "    (3): Linear(in_features=64, out_features=32, bias=True)\n",
              "    (4): ReLU()\n",
              "    (5): Linear(in_features=32, out_features=10, bias=True)\n",
              "  )\n",
              ")"
            ]
          },
          "metadata": {},
          "execution_count": 12
        }
      ]
    },
    {
      "cell_type": "code",
      "source": [
        "next(model.parameters()).device"
      ],
      "metadata": {
        "colab": {
          "base_uri": "https://localhost:8080/"
        },
        "id": "oIwxWTaUtWX9",
        "outputId": "cc78681d-35b8-43a7-a210-bd02b0ec89be"
      },
      "execution_count": 13,
      "outputs": [
        {
          "output_type": "execute_result",
          "data": {
            "text/plain": [
              "device(type='cuda', index=0)"
            ]
          },
          "metadata": {},
          "execution_count": 13
        }
      ]
    },
    {
      "cell_type": "code",
      "source": [
        "# Making Predictions (to find the in_features after Flatten layer)\n",
        "model.eval()\n",
        "with torch.inference_mode():\n",
        "  logits = model(images[0].unsqueeze(dim=0).to(device))\n",
        "preds = torch.argmax(torch.softmax(logits, dim=1), dim=1)\n",
        "preds"
      ],
      "metadata": {
        "colab": {
          "base_uri": "https://localhost:8080/"
        },
        "id": "RNOubQgBrWCO",
        "outputId": "8b526a88-3da1-4b81-9e27-0dbef055ecba"
      },
      "execution_count": 14,
      "outputs": [
        {
          "output_type": "execute_result",
          "data": {
            "text/plain": [
              "tensor([5], device='cuda:0')"
            ]
          },
          "metadata": {},
          "execution_count": 14
        }
      ]
    },
    {
      "cell_type": "markdown",
      "source": [
        "### Setting up Loss Function and Optimizer for our PyTorch model"
      ],
      "metadata": {
        "id": "2QE_K5Kwl5eu"
      }
    },
    {
      "cell_type": "code",
      "source": [
        "loss_fn = torch.nn.CrossEntropyLoss()\n",
        "optimizer = torch.optim.Adam(params=model.parameters(),\n",
        "                             lr=1e-3)"
      ],
      "metadata": {
        "id": "xLFi-A_JuSy6"
      },
      "execution_count": 15,
      "outputs": []
    },
    {
      "cell_type": "code",
      "source": [
        "def accuracy_fn(y_true, y_preds):\n",
        "  correct = torch.eq(y_true, y_preds).sum().item()\n",
        "  acc = correct/len(y_true) * 100\n",
        "  return acc"
      ],
      "metadata": {
        "id": "egXZceFtvsSa"
      },
      "execution_count": 16,
      "outputs": []
    },
    {
      "cell_type": "markdown",
      "source": [
        "### Create a function to time our experiments\n",
        "\n",
        "Machine Learning is very experimental,\n",
        "\n",
        "Two of the main things you'll often want to trach are:\n",
        "\n",
        "1. Model's performance (loss and accuracy values)\n",
        "2. How fast it runs\n",
        "\n",
        "Model's Performance and the speed it runs, is usually a trade-off, the bigger the model, more better the performance, but  speed of the model in making predictions decreases!!\n"
      ],
      "metadata": {
        "id": "bTYRK_ndu27z"
      }
    },
    {
      "cell_type": "code",
      "source": [
        "from timeit import default_timer as timer\n",
        "def print_train_time(start: float,\n",
        "                     end: float,\n",
        "                     device: torch.device = None):\n",
        "  \"\"\"Prints differences between start and end time.\"\"\"\n",
        "  total_time = end-start\n",
        "  print(f'Train Time on {device}: {total_time:.3f} secs')\n",
        "  return total_time"
      ],
      "metadata": {
        "id": "v_XkagOOu5Wj"
      },
      "execution_count": 17,
      "outputs": []
    },
    {
      "cell_type": "code",
      "source": [
        "start_time = timer()\n",
        "## some code here\n",
        "end_time = timer()\n",
        "print_train_time(start=start_time, end=end_time, device='cpu')"
      ],
      "metadata": {
        "colab": {
          "base_uri": "https://localhost:8080/"
        },
        "id": "WV-8hTJRu60K",
        "outputId": "2fbcdf16-8e9e-4cf1-93d0-df120057de80"
      },
      "execution_count": 18,
      "outputs": [
        {
          "output_type": "stream",
          "name": "stdout",
          "text": [
            "Train Time on cpu: 0.000 secs\n"
          ]
        },
        {
          "output_type": "execute_result",
          "data": {
            "text/plain": [
              "4.903899998964789e-05"
            ]
          },
          "metadata": {},
          "execution_count": 18
        }
      ]
    },
    {
      "cell_type": "markdown",
      "source": [
        "## Training our model"
      ],
      "metadata": {
        "id": "BITW97x1l5gv"
      }
    },
    {
      "cell_type": "code",
      "source": [
        "EPOCHS = 10\n",
        "\n",
        "train_time_start = timer()\n",
        "\n",
        "for epoch in range(EPOCHS):\n",
        "  print(f'Epoch: {epoch} \\n---------------------')\n",
        "\n",
        "  # Initializing our train loss and acc values for accumulation during training\n",
        "  train_loss, train_acc = 0, 0\n",
        "\n",
        "  # Put model to train mode\n",
        "  model.train()\n",
        "\n",
        "  for batch, (X, y) in enumerate(train_dataloader):\n",
        "    X, y = X.to(device), y.to(device)\n",
        "\n",
        "    # Forward Propagation\n",
        "    y_logits = model(X)\n",
        "    y_preds = torch.argmax(torch.softmax(y_logits, dim=1), dim=1)\n",
        "\n",
        "    # calculate and append the loss and acc values\n",
        "    loss = loss_fn(y_logits, y)\n",
        "    train_loss += loss\n",
        "    train_acc += accuracy_fn(y, y_preds)\n",
        "\n",
        "    # Zero grad: clears all the graident computations made in the previous epoch\n",
        "    optimizer.zero_grad()\n",
        "    # Backpropagation\n",
        "    loss.backward()\n",
        "    # Gradient Descent\n",
        "    optimizer.step()\n",
        "\n",
        "    # Print out status of epoch every 400 batches\n",
        "    if batch % 400 == 0:\n",
        "      print(f'Processed Images: [{batch*train_dataloader.batch_size} / {len(train_dataloader)*train_dataloader.batch_size}]')\n",
        "\n",
        "  # Calculate the average train loss and acc\n",
        "  train_loss /= len(train_dataloader)\n",
        "  train_acc /= len(train_dataloader)\n",
        "\n",
        "  # Put model to evaluation model\n",
        "  test_loss, test_acc = 0, 0\n",
        "  model.eval()\n",
        "  with torch.inference_mode():\n",
        "    for X, y in test_dataloader:\n",
        "      X, y = X.to(device), y.to(device)\n",
        "\n",
        "      # Forward pass\n",
        "      test_logits = model(X)\n",
        "      test_preds = torch.argmax(torch.softmax(test_logits, dim=1), dim=1)\n",
        "\n",
        "      test_loss += loss_fn(test_logits, y)\n",
        "      test_acc += accuracy_fn(y, test_preds)\n",
        "\n",
        "    # Calculate the average test loss and acc\n",
        "    test_loss /= len(test_dataloader)\n",
        "    test_acc /= len(test_dataloader)\n",
        "\n",
        "  print(f'Train Loss: {train_loss:.5f} | Train Accuracy: {train_acc:.2f} | Test Loss: {test_loss:.5f} | Test Accuracy: {test_acc:.2f}')\n",
        "\n",
        "\n",
        "\n",
        "train_time_end = timer()\n",
        "total_train_time = print_train_time(start=train_time_start, end=train_time_end, device=device)\n",
        "print(f'Total Training Time: {total_train_time} secs')"
      ],
      "metadata": {
        "colab": {
          "base_uri": "https://localhost:8080/"
        },
        "id": "KPZhTNemvTs7",
        "outputId": "86542e7e-eeba-49cf-b624-5f44fe069036"
      },
      "execution_count": 19,
      "outputs": [
        {
          "output_type": "stream",
          "name": "stdout",
          "text": [
            "Epoch: 0 \n",
            "---------------------\n",
            "Processed Images: [0 / 60000]\n",
            "Processed Images: [12800 / 60000]\n",
            "Processed Images: [25600 / 60000]\n",
            "Processed Images: [38400 / 60000]\n",
            "Processed Images: [51200 / 60000]\n",
            "Train Loss: 0.16851 | Train Accuracy: 94.74 | Test Loss: 0.05641 | Test Accuracy: 98.22\n",
            "Epoch: 1 \n",
            "---------------------\n",
            "Processed Images: [0 / 60000]\n",
            "Processed Images: [12800 / 60000]\n",
            "Processed Images: [25600 / 60000]\n",
            "Processed Images: [38400 / 60000]\n",
            "Processed Images: [51200 / 60000]\n",
            "Train Loss: 0.05193 | Train Accuracy: 98.41 | Test Loss: 0.04218 | Test Accuracy: 98.69\n",
            "Epoch: 2 \n",
            "---------------------\n",
            "Processed Images: [0 / 60000]\n",
            "Processed Images: [12800 / 60000]\n",
            "Processed Images: [25600 / 60000]\n",
            "Processed Images: [38400 / 60000]\n",
            "Processed Images: [51200 / 60000]\n",
            "Train Loss: 0.03601 | Train Accuracy: 98.90 | Test Loss: 0.04262 | Test Accuracy: 98.68\n",
            "Epoch: 3 \n",
            "---------------------\n",
            "Processed Images: [0 / 60000]\n",
            "Processed Images: [12800 / 60000]\n",
            "Processed Images: [25600 / 60000]\n",
            "Processed Images: [38400 / 60000]\n",
            "Processed Images: [51200 / 60000]\n",
            "Train Loss: 0.02691 | Train Accuracy: 99.16 | Test Loss: 0.02983 | Test Accuracy: 99.01\n",
            "Epoch: 4 \n",
            "---------------------\n",
            "Processed Images: [0 / 60000]\n",
            "Processed Images: [12800 / 60000]\n",
            "Processed Images: [25600 / 60000]\n",
            "Processed Images: [38400 / 60000]\n",
            "Processed Images: [51200 / 60000]\n",
            "Train Loss: 0.02245 | Train Accuracy: 99.28 | Test Loss: 0.03427 | Test Accuracy: 98.89\n",
            "Epoch: 5 \n",
            "---------------------\n",
            "Processed Images: [0 / 60000]\n",
            "Processed Images: [12800 / 60000]\n",
            "Processed Images: [25600 / 60000]\n",
            "Processed Images: [38400 / 60000]\n",
            "Processed Images: [51200 / 60000]\n",
            "Train Loss: 0.01561 | Train Accuracy: 99.52 | Test Loss: 0.03172 | Test Accuracy: 99.02\n",
            "Epoch: 6 \n",
            "---------------------\n",
            "Processed Images: [0 / 60000]\n",
            "Processed Images: [12800 / 60000]\n",
            "Processed Images: [25600 / 60000]\n",
            "Processed Images: [38400 / 60000]\n",
            "Processed Images: [51200 / 60000]\n",
            "Train Loss: 0.01561 | Train Accuracy: 99.52 | Test Loss: 0.03207 | Test Accuracy: 99.05\n",
            "Epoch: 7 \n",
            "---------------------\n",
            "Processed Images: [0 / 60000]\n",
            "Processed Images: [12800 / 60000]\n",
            "Processed Images: [25600 / 60000]\n",
            "Processed Images: [38400 / 60000]\n",
            "Processed Images: [51200 / 60000]\n",
            "Train Loss: 0.01201 | Train Accuracy: 99.61 | Test Loss: 0.02762 | Test Accuracy: 99.09\n",
            "Epoch: 8 \n",
            "---------------------\n",
            "Processed Images: [0 / 60000]\n",
            "Processed Images: [12800 / 60000]\n",
            "Processed Images: [25600 / 60000]\n",
            "Processed Images: [38400 / 60000]\n",
            "Processed Images: [51200 / 60000]\n",
            "Train Loss: 0.01079 | Train Accuracy: 99.66 | Test Loss: 0.02985 | Test Accuracy: 99.04\n",
            "Epoch: 9 \n",
            "---------------------\n",
            "Processed Images: [0 / 60000]\n",
            "Processed Images: [12800 / 60000]\n",
            "Processed Images: [25600 / 60000]\n",
            "Processed Images: [38400 / 60000]\n",
            "Processed Images: [51200 / 60000]\n",
            "Train Loss: 0.00998 | Train Accuracy: 99.67 | Test Loss: 0.03144 | Test Accuracy: 99.14\n",
            "Train Time on cuda: 136.348 secs\n",
            "Total Training Time: 136.347986145 secs\n"
          ]
        }
      ]
    },
    {
      "cell_type": "markdown",
      "source": [
        "## Evaluating our Model\n",
        "\n",
        "* Evaluating in many metrics (using `torchmetrics`)\n",
        "* Random Image plotting and Predictions\n",
        "* Confusion Matrix (`torchmetrics`, `mlxtend`)"
      ],
      "metadata": {
        "id": "JWKh-u0kl5iV"
      }
    },
    {
      "cell_type": "code",
      "source": [
        "# Making Predictions\n",
        "predictions = []\n",
        "model.eval()\n",
        "with torch.inference_mode():\n",
        "  for X, y in test_dataloader:\n",
        "    X, y = X.to(device), y.to(device)\n",
        "    y_preds = list(torch.argmax(torch.softmax(model(X), dim=1), dim=1).squeeze().cpu().numpy())\n",
        "    predictions.extend(y_preds)\n",
        "predictions = torch.tensor(predictions)"
      ],
      "metadata": {
        "id": "GgrlfCDz0vBV"
      },
      "execution_count": 26,
      "outputs": []
    },
    {
      "cell_type": "code",
      "source": [
        "torch.stack([predictions, test_data.targets])"
      ],
      "metadata": {
        "colab": {
          "base_uri": "https://localhost:8080/"
        },
        "id": "mNuLYo4q1n7A",
        "outputId": "579c03c1-1394-4107-b654-59688e189a47"
      },
      "execution_count": 31,
      "outputs": [
        {
          "output_type": "execute_result",
          "data": {
            "text/plain": [
              "tensor([[7, 2, 1,  ..., 4, 5, 6],\n",
              "        [7, 2, 1,  ..., 4, 5, 6]])"
            ]
          },
          "metadata": {},
          "execution_count": 31
        }
      ]
    },
    {
      "cell_type": "code",
      "source": [
        "from torchmetrics import Accuracy, Precision, Recall, F1Score\n",
        "\n",
        "def torch_metrics(preds, target):\n",
        "\n",
        "  torchmetric_acc = Accuracy(task=\"multiclass\", num_classes=10)\n",
        "  acc = torchmetric_acc(preds, target)\n",
        "\n",
        "  torchmetric_precision = Precision(task=\"multiclass\", num_classes=10, average='macro')\n",
        "  precision = torchmetric_precision(preds, target)\n",
        "\n",
        "  torchmetric_recall = Recall(task=\"multiclass\", num_classes=10, average='macro')\n",
        "  recall = torchmetric_recall(preds, target)\n",
        "\n",
        "  torchmetric_f1 = F1Score(task=\"multiclass\", num_classes=10, average='macro')\n",
        "  f1 = torchmetric_f1(preds, target)\n",
        "\n",
        "  return acc, precision, recall, f1\n",
        "\n",
        "acc, prec, recall, f1_score = torch_metrics(preds=predictions, target=test_data.targets)\n",
        "print(f'Accuracy: {acc*100}% \\nPrecision: {prec*100}% \\nRecall: {recall*100}% \\nF1 Score: {f1_score*100}%')"
      ],
      "metadata": {
        "colab": {
          "base_uri": "https://localhost:8080/"
        },
        "id": "qpm-Yi9rz8Us",
        "outputId": "4459c60f-51e8-4a70-bf65-64435cea2e36"
      },
      "execution_count": 35,
      "outputs": [
        {
          "output_type": "stream",
          "name": "stdout",
          "text": [
            "Accuracy: 99.13999938964844% \n",
            "Precision: 99.14466094970703% \n",
            "Recall: 99.13998413085938% \n",
            "F1 Score: 99.14020538330078%\n"
          ]
        }
      ]
    },
    {
      "cell_type": "markdown",
      "source": [
        "### Plotting random predictions with images"
      ],
      "metadata": {
        "id": "W7YfmRRW2lUU"
      }
    },
    {
      "cell_type": "code",
      "source": [
        "def generate_random_nums(lower_bound=0, upper_bound=10000):\n",
        "  # Generate a list of 100 random numbers\n",
        "  random_numbers = []\n",
        "  for i in range(9):\n",
        "      random_number = random.randint(lower_bound, upper_bound)\n",
        "      random_numbers.append(random_number)\n",
        "\n",
        "  return random_numbers"
      ],
      "metadata": {
        "id": "0dAUsFVy3THi"
      },
      "execution_count": 41,
      "outputs": []
    },
    {
      "cell_type": "code",
      "source": [
        "plt.figure(figsize=(12, 10))\n",
        "\n",
        "nrows = 3\n",
        "ncols=3\n",
        "random_idx = generate_random_nums()\n",
        "\n",
        "for i, num in enumerate(random_idx):\n",
        "  plt.subplot(nrows, ncols, i+1)\n",
        "\n",
        "  truth_label = test_data.targets[num].item()\n",
        "  pred_label = predictions[num].item()\n",
        "  img = test_data[num][0]\n",
        "\n",
        "  plt.imshow(img.squeeze(), cmap='gray')\n",
        "  plt.axis('off')\n",
        "\n",
        "  title = f'{class_names[pred_label]} \\nTruth: {class_names[truth_label]}'\n",
        "\n",
        "  if pred_label == truth_label:\n",
        "    plt.title(title, c='g')\n",
        "  else:\n",
        "    plt.title(title, c='r')"
      ],
      "metadata": {
        "colab": {
          "base_uri": "https://localhost:8080/",
          "height": 870
        },
        "id": "839MfCO-2k5U",
        "outputId": "229d5849-53f8-4be6-87fd-5ad21ecb6ef2"
      },
      "execution_count": 47,
      "outputs": [
        {
          "output_type": "display_data",
          "data": {
            "text/plain": [
              "<Figure size 1200x1000 with 9 Axes>"
            ],
            "image/png": "[encoded data removed]"
          },
          "metadata": {}
        }
      ]
    },
    {
      "cell_type": "markdown",
      "source": [
        "### Confusion Matrix"
      ],
      "metadata": {
        "id": "dNBZ7-hY5gPB"
      }
    },
    {
      "cell_type": "code",
      "source": [
        "from torchmetrics import ConfusionMatrix\n",
        "confmat = ConfusionMatrix(task=\"multiclass\", num_classes=10)\n",
        "matrix = confmat(predictions, test_data.targets)\n",
        "matrix"
      ],
      "metadata": {
        "colab": {
          "base_uri": "https://localhost:8080/"
        },
        "id": "39M0bw6R5jts",
        "outputId": "5f52ffe2-8d90-4baf-d990-e88ced540e1a"
      },
      "execution_count": 48,
      "outputs": [
        {
          "output_type": "execute_result",
          "data": {
            "text/plain": [
              "tensor([[ 978,    0,    0,    0,    0,    0,    0,    1,    0,    1],\n",
              "        [   0, 1125,    0,    0,    0,    0,    2,    8,    0,    0],\n",
              "        [   1,    0, 1022,    0,    0,    0,    0,    9,    0,    0],\n",
              "        [   0,    0,    2, 1005,    0,    1,    0,    1,    1,    0],\n",
              "        [   0,    0,    1,    0,  970,    0,    1,    2,    0,    8],\n",
              "        [   0,    0,    0,    2,    0,  887,    1,    1,    1,    0],\n",
              "        [   1,    2,    1,    0,    2,    3,  946,    0,    3,    0],\n",
              "        [   0,    1,    1,    0,    0,    0,    0, 1026,    0,    0],\n",
              "        [   4,    1,    2,    1,    0,    0,    0,    3,  961,    2],\n",
              "        [   0,    0,    1,    0,    3,    5,    0,    3,    3,  994]])"
            ]
          },
          "metadata": {},
          "execution_count": 48
        }
      ]
    },
    {
      "cell_type": "code",
      "source": [
        "from mlxtend.plotting import plot_confusion_matrix\n",
        "\n",
        "plt.figure(figsize=(12, 6))\n",
        "fig, ax = plot_confusion_matrix(conf_mat=matrix.numpy(),\n",
        "                                class_names=class_names,\n",
        "                                colorbar=True\n",
        "                                )\n",
        "plt.show()"
      ],
      "metadata": {
        "colab": {
          "base_uri": "https://localhost:8080/",
          "height": 507
        },
        "id": "xYIO6KqO554z",
        "outputId": "4d98979c-caf7-4bc5-ad61-4623aaaed19b"
      },
      "execution_count": 54,
      "outputs": [
        {
          "output_type": "display_data",
          "data": {
            "text/plain": [
              "<Figure size 1200x600 with 0 Axes>"
            ]
          },
          "metadata": {}
        },
        {
          "output_type": "display_data",
          "data": {
            "text/plain": [
              "<Figure size 640x480 with 2 Axes>"
            ],
            "image/png": "[encoded data removed]"
          },
          "metadata": {}
        }
      ]
    },
    {
      "cell_type": "markdown",
      "source": [
        "## Saving and re-loading our model"
      ],
      "metadata": {
        "id": "LzE7P_RKl6Nj"
      }
    },
    {
      "cell_type": "code",
      "source": [
        "# saving our model's state_dict\n",
        "torch.save(model.state_dict(), 'mnist_pytorch_model.pt')"
      ],
      "metadata": {
        "id": "_cQXrpv7nN1Q"
      },
      "execution_count": 55,
      "outputs": []
    },
    {
      "cell_type": "code",
      "source": [
        "loaded_model = MNISTModelV0().to(device)\n",
        "loaded_model.load_state_dict(torch.load('mnist_pytorch_model.pt'))"
      ],
      "metadata": {
        "colab": {
          "base_uri": "https://localhost:8080/"
        },
        "id": "N5cWx9LH7Pvv",
        "outputId": "281c6850-d4f4-46d7-91f5-547943dee40a"
      },
      "execution_count": 57,
      "outputs": [
        {
          "output_type": "execute_result",
          "data": {
            "text/plain": [
              "<All keys matched successfully>"
            ]
          },
          "metadata": {},
          "execution_count": 57
        }
      ]
    },
    {
      "cell_type": "code",
      "source": [
        "# Making Predictions\n",
        "loaded_predictions = []\n",
        "model.eval()\n",
        "with torch.inference_mode():\n",
        "  for X, y in test_dataloader:\n",
        "    X, y = X.to(device), y.to(device)\n",
        "    y_preds = list(torch.argmax(torch.softmax(loaded_model(X), dim=1), dim=1).squeeze().cpu().numpy())\n",
        "    loaded_predictions.extend(y_preds)\n",
        "loaded_predictions = torch.tensor(loaded_predictions)\n",
        "\n",
        "acc, prec, recall, f1_score = torch_metrics(preds=loaded_predictions, target=test_data.targets)\n",
        "print(f'Accuracy: {acc*100}% \\nPrecision: {prec*100}% \\nRecall: {recall*100}% \\nF1 Score: {f1_score*100}%')"
      ],
      "metadata": {
        "colab": {
          "base_uri": "https://localhost:8080/"
        },
        "id": "s5Q5Kjwe7Ycg",
        "outputId": "9117486e-6630-4b96-b5fb-c6cb512e96a1"
      },
      "execution_count": 58,
      "outputs": [
        {
          "output_type": "stream",
          "name": "stdout",
          "text": [
            "Accuracy: 99.13999938964844% \n",
            "Precision: 99.14466094970703% \n",
            "Recall: 99.13998413085938% \n",
            "F1 Score: 99.14020538330078%\n"
          ]
        }
      ]
    }
  ]
}